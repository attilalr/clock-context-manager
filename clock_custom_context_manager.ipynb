{
  "nbformat": 4,
  "nbformat_minor": 0,
  "metadata": {
    "colab": {
      "provenance": []
    },
    "kernelspec": {
      "name": "python3",
      "display_name": "Python 3"
    },
    "language_info": {
      "name": "python"
    }
  },
  "cells": [
    {
      "cell_type": "code",
      "execution_count": 2,
      "metadata": {
        "id": "OjlMZg_4Jnva"
      },
      "outputs": [],
      "source": [
        "import contextlib\n",
        "\n",
        "import time"
      ]
    },
    {
      "cell_type": "code",
      "source": [
        "@contextlib.contextmanager\n",
        "def clock(time_unit='s'):\n",
        "    t1 = time.perf_counter()\n",
        "    yield\n",
        "    t2 = time.perf_counter()\n",
        "\n",
        "    duration = t2 - t1\n",
        "\n",
        "    if time_unit == 's':\n",
        "        time_unit_print = 'seconds'\n",
        "    if time_unit == 'm':\n",
        "        duration = duration/60\n",
        "        time_unit_print = 'minutes'\n",
        "\n",
        "    print (f'Code block ran in {duration:.1f} {time_unit_print}.')"
      ],
      "metadata": {
        "id": "x3RyfLbkJyuB"
      },
      "execution_count": 15,
      "outputs": []
    },
    {
      "cell_type": "code",
      "source": [
        "with clock():\n",
        "    [x**2 for x in range(10**6)]\n",
        "\n",
        "with clock(time_unit='m'):\n",
        "    [x**2 for x in range(3*10**7)]"
      ],
      "metadata": {
        "colab": {
          "base_uri": "https://localhost:8080/"
        },
        "id": "c6NojA-MLC-D",
        "outputId": "2add659d-4521-4de7-f52f-23d01e90b708"
      },
      "execution_count": 19,
      "outputs": [
        {
          "output_type": "stream",
          "name": "stdout",
          "text": [
            "Code block ran in 0.3 seconds.\n",
            "Code block ran in 0.2 minutes.\n"
          ]
        }
      ]
    }
  ]
}