{
  "nbformat": 4,
  "nbformat_minor": 0,
  "metadata": {
    "colab": {
      "provenance": [],
      "authorship_tag": "ABX9TyPvtwJ8apTh8hvi3WN6wqiZ",
      "include_colab_link": true
    },
    "kernelspec": {
      "name": "python3",
      "display_name": "Python 3"
    },
    "language_info": {
      "name": "python"
    }
  },
  "cells": [
    {
      "cell_type": "markdown",
      "metadata": {
        "id": "view-in-github",
        "colab_type": "text"
      },
      "source": [
        "<a href=\"https://colab.research.google.com/github/attilalr/clock-context-manager/blob/main/clock_custom_context_manager.ipynb\" target=\"_parent\"><img src=\"https://colab.research.google.com/assets/colab-badge.svg\" alt=\"Open In Colab\"/></a>"
      ]
    },
    {
      "cell_type": "code",
      "execution_count": 1,
      "metadata": {
        "id": "OjlMZg_4Jnva"
      },
      "outputs": [],
      "source": [
        "import contextlib\n",
        "\n",
        "import time"
      ]
    },
    {
      "cell_type": "code",
      "source": [
        "@contextlib.contextmanager\n",
        "def clock(time_unit='s', label=None):\n",
        "    t1 = time.perf_counter()\n",
        "    yield\n",
        "    t2 = time.perf_counter()\n",
        "\n",
        "    duration = t2 - t1\n",
        "\n",
        "    if time_unit == 's':\n",
        "        time_unit_print = 'seconds'\n",
        "    elif time_unit == 'm':\n",
        "        duration = duration/60\n",
        "        time_unit_print = 'minutes'\n",
        "    else:\n",
        "        time_unit = 's'\n",
        "        time_unit_print = 'seconds'\n",
        "\n",
        "    if label:\n",
        "        print (f'{label} ran in {duration:.1f} {time_unit_print}.')\n",
        "    else:\n",
        "        print (f'Code block ran in {duration:.1f} {time_unit_print}.')"
      ],
      "metadata": {
        "id": "x3RyfLbkJyuB"
      },
      "execution_count": 6,
      "outputs": []
    },
    {
      "cell_type": "code",
      "source": [
        "with clock():\n",
        "    [x**2 for x in range(10**6)]\n",
        "\n",
        "with clock(time_unit='m'):\n",
        "    [x**2 for x in range(3*10**7)]\n",
        "\n",
        "\n",
        "with clock(label='Block code 123.1rev1a'):\n",
        "    [x**2 for x in range(10**6)]"
      ],
      "metadata": {
        "colab": {
          "base_uri": "https://localhost:8080/"
        },
        "id": "c6NojA-MLC-D",
        "outputId": "cd700b36-5f05-41f0-d05b-ad7b4db8f9f4"
      },
      "execution_count": 7,
      "outputs": [
        {
          "output_type": "stream",
          "name": "stdout",
          "text": [
            "Code block ran in 0.5 seconds.\n",
            "Code block ran in 0.2 minutes.\n",
            "Block code 123.1rev1a ran in 0.3 seconds.\n"
          ]
        }
      ]
    }
  ]
}